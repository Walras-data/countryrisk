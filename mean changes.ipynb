{
 "cells": [
  {
   "cell_type": "code",
   "execution_count": 2,
   "metadata": {},
   "outputs": [],
   "source": [
    "import pandas as pd\n",
    "import numpy as np\n",
    "\n",
    "crisis = pd.read_csv(\"x3.csv\")"
   ]
  },
  {
   "cell_type": "code",
   "execution_count": 3,
   "metadata": {},
   "outputs": [
    {
     "data": {
      "text/html": [
       "<div>\n",
       "<style scoped>\n",
       "    .dataframe tbody tr th:only-of-type {\n",
       "        vertical-align: middle;\n",
       "    }\n",
       "\n",
       "    .dataframe tbody tr th {\n",
       "        vertical-align: top;\n",
       "    }\n",
       "\n",
       "    .dataframe thead th {\n",
       "        text-align: right;\n",
       "    }\n",
       "</style>\n",
       "<table border=\"1\" class=\"dataframe\">\n",
       "  <thead>\n",
       "    <tr style=\"text-align: right;\">\n",
       "      <th></th>\n",
       "      <th>Unnamed: 0</th>\n",
       "      <th>year</th>\n",
       "      <th>ISO2 Code</th>\n",
       "      <th>ENDE_XDC_USD_RATE</th>\n",
       "      <th>couprisk</th>\n",
       "      <th>broad_reserves_ratio</th>\n",
       "      <th>broad_base_ratio</th>\n",
       "      <th>foreignassets_reserves_ratio</th>\n",
       "      <th>inflation</th>\n",
       "      <th>current_account</th>\n",
       "      <th>...</th>\n",
       "      <th>imports_fx</th>\n",
       "      <th>exchange_change</th>\n",
       "      <th>exchange_change_12m</th>\n",
       "      <th>net_debt</th>\n",
       "      <th>lending_borrowing</th>\n",
       "      <th>lending_rate</th>\n",
       "      <th>M2</th>\n",
       "      <th>claims_private</th>\n",
       "      <th>pred</th>\n",
       "      <th>precrisis</th>\n",
       "    </tr>\n",
       "  </thead>\n",
       "  <tbody>\n",
       "    <tr>\n",
       "      <td>0</td>\n",
       "      <td>0</td>\n",
       "      <td>1990-02-01</td>\n",
       "      <td>AF</td>\n",
       "      <td>NaN</td>\n",
       "      <td>NaN</td>\n",
       "      <td>NaN</td>\n",
       "      <td>NaN</td>\n",
       "      <td>NaN</td>\n",
       "      <td>NaN</td>\n",
       "      <td>NaN</td>\n",
       "      <td>...</td>\n",
       "      <td>NaN</td>\n",
       "      <td>NaN</td>\n",
       "      <td>NaN</td>\n",
       "      <td>NaN</td>\n",
       "      <td>NaN</td>\n",
       "      <td>NaN</td>\n",
       "      <td>NaN</td>\n",
       "      <td>NaN</td>\n",
       "      <td>0.301421</td>\n",
       "      <td>0</td>\n",
       "    </tr>\n",
       "    <tr>\n",
       "      <td>1</td>\n",
       "      <td>1</td>\n",
       "      <td>1990-02-01</td>\n",
       "      <td>AO</td>\n",
       "      <td>NaN</td>\n",
       "      <td>NaN</td>\n",
       "      <td>NaN</td>\n",
       "      <td>NaN</td>\n",
       "      <td>NaN</td>\n",
       "      <td>NaN</td>\n",
       "      <td>NaN</td>\n",
       "      <td>...</td>\n",
       "      <td>NaN</td>\n",
       "      <td>NaN</td>\n",
       "      <td>NaN</td>\n",
       "      <td>NaN</td>\n",
       "      <td>NaN</td>\n",
       "      <td>NaN</td>\n",
       "      <td>NaN</td>\n",
       "      <td>NaN</td>\n",
       "      <td>0.301421</td>\n",
       "      <td>0</td>\n",
       "    </tr>\n",
       "    <tr>\n",
       "      <td>2</td>\n",
       "      <td>2</td>\n",
       "      <td>1990-02-01</td>\n",
       "      <td>AR</td>\n",
       "      <td>NaN</td>\n",
       "      <td>NaN</td>\n",
       "      <td>NaN</td>\n",
       "      <td>NaN</td>\n",
       "      <td>NaN</td>\n",
       "      <td>NaN</td>\n",
       "      <td>NaN</td>\n",
       "      <td>...</td>\n",
       "      <td>NaN</td>\n",
       "      <td>NaN</td>\n",
       "      <td>NaN</td>\n",
       "      <td>NaN</td>\n",
       "      <td>NaN</td>\n",
       "      <td>NaN</td>\n",
       "      <td>NaN</td>\n",
       "      <td>NaN</td>\n",
       "      <td>0.301421</td>\n",
       "      <td>1</td>\n",
       "    </tr>\n",
       "    <tr>\n",
       "      <td>3</td>\n",
       "      <td>3</td>\n",
       "      <td>1990-02-01</td>\n",
       "      <td>AZ</td>\n",
       "      <td>NaN</td>\n",
       "      <td>NaN</td>\n",
       "      <td>NaN</td>\n",
       "      <td>NaN</td>\n",
       "      <td>NaN</td>\n",
       "      <td>NaN</td>\n",
       "      <td>NaN</td>\n",
       "      <td>...</td>\n",
       "      <td>NaN</td>\n",
       "      <td>NaN</td>\n",
       "      <td>NaN</td>\n",
       "      <td>NaN</td>\n",
       "      <td>NaN</td>\n",
       "      <td>NaN</td>\n",
       "      <td>NaN</td>\n",
       "      <td>NaN</td>\n",
       "      <td>0.301421</td>\n",
       "      <td>0</td>\n",
       "    </tr>\n",
       "    <tr>\n",
       "      <td>4</td>\n",
       "      <td>4</td>\n",
       "      <td>1990-02-01</td>\n",
       "      <td>BD</td>\n",
       "      <td>NaN</td>\n",
       "      <td>NaN</td>\n",
       "      <td>NaN</td>\n",
       "      <td>NaN</td>\n",
       "      <td>NaN</td>\n",
       "      <td>NaN</td>\n",
       "      <td>NaN</td>\n",
       "      <td>...</td>\n",
       "      <td>NaN</td>\n",
       "      <td>NaN</td>\n",
       "      <td>NaN</td>\n",
       "      <td>NaN</td>\n",
       "      <td>NaN</td>\n",
       "      <td>NaN</td>\n",
       "      <td>NaN</td>\n",
       "      <td>NaN</td>\n",
       "      <td>0.301421</td>\n",
       "      <td>0</td>\n",
       "    </tr>\n",
       "  </tbody>\n",
       "</table>\n",
       "<p>5 rows × 27 columns</p>\n",
       "</div>"
      ],
      "text/plain": [
       "   Unnamed: 0        year ISO2 Code  ENDE_XDC_USD_RATE  couprisk  \\\n",
       "0           0  1990-02-01        AF                NaN       NaN   \n",
       "1           1  1990-02-01        AO                NaN       NaN   \n",
       "2           2  1990-02-01        AR                NaN       NaN   \n",
       "3           3  1990-02-01        AZ                NaN       NaN   \n",
       "4           4  1990-02-01        BD                NaN       NaN   \n",
       "\n",
       "   broad_reserves_ratio  broad_base_ratio  foreignassets_reserves_ratio  \\\n",
       "0                   NaN               NaN                           NaN   \n",
       "1                   NaN               NaN                           NaN   \n",
       "2                   NaN               NaN                           NaN   \n",
       "3                   NaN               NaN                           NaN   \n",
       "4                   NaN               NaN                           NaN   \n",
       "\n",
       "   inflation  current_account  ...  imports_fx  exchange_change  \\\n",
       "0        NaN              NaN  ...         NaN              NaN   \n",
       "1        NaN              NaN  ...         NaN              NaN   \n",
       "2        NaN              NaN  ...         NaN              NaN   \n",
       "3        NaN              NaN  ...         NaN              NaN   \n",
       "4        NaN              NaN  ...         NaN              NaN   \n",
       "\n",
       "   exchange_change_12m  net_debt  lending_borrowing  lending_rate  M2  \\\n",
       "0                  NaN       NaN                NaN           NaN NaN   \n",
       "1                  NaN       NaN                NaN           NaN NaN   \n",
       "2                  NaN       NaN                NaN           NaN NaN   \n",
       "3                  NaN       NaN                NaN           NaN NaN   \n",
       "4                  NaN       NaN                NaN           NaN NaN   \n",
       "\n",
       "   claims_private      pred  precrisis  \n",
       "0             NaN  0.301421          0  \n",
       "1             NaN  0.301421          0  \n",
       "2             NaN  0.301421          1  \n",
       "3             NaN  0.301421          0  \n",
       "4             NaN  0.301421          0  \n",
       "\n",
       "[5 rows x 27 columns]"
      ]
     },
     "execution_count": 3,
     "metadata": {},
     "output_type": "execute_result"
    }
   ],
   "source": [
    "crisis.head()"
   ]
  },
  {
   "cell_type": "code",
   "execution_count": 1,
   "metadata": {},
   "outputs": [
    {
     "name": "stdout",
     "output_type": "stream",
     "text": [
      "Collecting folium\n",
      "  Downloading https://files.pythonhosted.org/packages/fd/a0/ccb3094026649cda4acd55bf2c3822bb8c277eb11446d13d384e5be35257/folium-0.10.1-py2.py3-none-any.whl (91kB)\n",
      "Requirement already satisfied: requests in c:\\users\\leomf\\anaconda3\\lib\\site-packages (from folium) (2.22.0)\n",
      "Requirement already satisfied: numpy in c:\\users\\leomf\\anaconda3\\lib\\site-packages (from folium) (1.16.5)\n",
      "Collecting branca>=0.3.0 (from folium)\n",
      "  Downloading https://files.pythonhosted.org/packages/63/36/1c93318e9653f4e414a2e0c3b98fc898b4970e939afeedeee6075dd3b703/branca-0.3.1-py3-none-any.whl\n",
      "Requirement already satisfied: jinja2>=2.9 in c:\\users\\leomf\\anaconda3\\lib\\site-packages (from folium) (2.10.3)\n",
      "Requirement already satisfied: certifi>=2017.4.17 in c:\\users\\leomf\\anaconda3\\lib\\site-packages (from requests->folium) (2019.9.11)\n",
      "Requirement already satisfied: chardet<3.1.0,>=3.0.2 in c:\\users\\leomf\\anaconda3\\lib\\site-packages (from requests->folium) (3.0.4)\n",
      "Requirement already satisfied: urllib3!=1.25.0,!=1.25.1,<1.26,>=1.21.1 in c:\\users\\leomf\\anaconda3\\lib\\site-packages (from requests->folium) (1.24.2)\n",
      "Requirement already satisfied: idna<2.9,>=2.5 in c:\\users\\leomf\\anaconda3\\lib\\site-packages (from requests->folium) (2.8)\n",
      "Requirement already satisfied: six in c:\\users\\leomf\\anaconda3\\lib\\site-packages (from branca>=0.3.0->folium) (1.12.0)\n",
      "Requirement already satisfied: MarkupSafe>=0.23 in c:\\users\\leomf\\anaconda3\\lib\\site-packages (from jinja2>=2.9->folium) (1.1.1)\n",
      "Installing collected packages: branca, folium\n",
      "Successfully installed branca-0.3.1 folium-0.10.1\n"
     ]
    }
   ],
   "source": []
  },
  {
   "cell_type": "code",
   "execution_count": 8,
   "metadata": {},
   "outputs": [
    {
     "data": {
      "image/png": "[encoded data removed]",
      "text/plain": [
       "<Figure size 432x288 with 1 Axes>"
      ]
     },
     "metadata": {
      "needs_background": "light"
     },
     "output_type": "display_data"
    }
   ],
   "source": [
    "import matplotlib.pyplot as plt\n",
    "\n",
    "\n",
    "num_bins = 5\n",
    "plt.hist(crisis['exchange_change'], num_bins, facecolor='blue', alpha=0.5)\n",
    "plt.show()"
   ]
  },
  {
   "cell_type": "code",
   "execution_count": 9,
   "metadata": {},
   "outputs": [],
   "source": [
    "import numpy as np\n",
    "import pandas as pd\n",
    "import seaborn as sns\n",
    "import matplotlib.pyplot as plt\n",
    "from scipy import stats\n",
    "sns.distplot();"
   ]
  },
  {
   "cell_type": "code",
   "execution_count": 13,
   "metadata": {},
   "outputs": [],
   "source": [
    "crisis1 = crisis[['year','exchange_change','pred','ISO2 Code']]\n"
   ]
  },
  {
   "cell_type": "code",
   "execution_count": 14,
   "metadata": {},
   "outputs": [
    {
     "data": {
      "text/html": [
       "<div>\n",
       "<style scoped>\n",
       "    .dataframe tbody tr th:only-of-type {\n",
       "        vertical-align: middle;\n",
       "    }\n",
       "\n",
       "    .dataframe tbody tr th {\n",
       "        vertical-align: top;\n",
       "    }\n",
       "\n",
       "    .dataframe thead th {\n",
       "        text-align: right;\n",
       "    }\n",
       "</style>\n",
       "<table border=\"1\" class=\"dataframe\">\n",
       "  <thead>\n",
       "    <tr style=\"text-align: right;\">\n",
       "      <th></th>\n",
       "      <th>year</th>\n",
       "      <th>exchange_change</th>\n",
       "      <th>pred</th>\n",
       "      <th>ISO2 Code</th>\n",
       "    </tr>\n",
       "  </thead>\n",
       "  <tbody>\n",
       "    <tr>\n",
       "      <td>0</td>\n",
       "      <td>1990-02-01</td>\n",
       "      <td>NaN</td>\n",
       "      <td>0.301421</td>\n",
       "      <td>AF</td>\n",
       "    </tr>\n",
       "    <tr>\n",
       "      <td>1</td>\n",
       "      <td>1990-02-01</td>\n",
       "      <td>NaN</td>\n",
       "      <td>0.301421</td>\n",
       "      <td>AO</td>\n",
       "    </tr>\n",
       "    <tr>\n",
       "      <td>2</td>\n",
       "      <td>1990-02-01</td>\n",
       "      <td>NaN</td>\n",
       "      <td>0.301421</td>\n",
       "      <td>AR</td>\n",
       "    </tr>\n",
       "    <tr>\n",
       "      <td>3</td>\n",
       "      <td>1990-02-01</td>\n",
       "      <td>NaN</td>\n",
       "      <td>0.301421</td>\n",
       "      <td>AZ</td>\n",
       "    </tr>\n",
       "    <tr>\n",
       "      <td>4</td>\n",
       "      <td>1990-02-01</td>\n",
       "      <td>NaN</td>\n",
       "      <td>0.301421</td>\n",
       "      <td>BD</td>\n",
       "    </tr>\n",
       "  </tbody>\n",
       "</table>\n",
       "</div>"
      ],
      "text/plain": [
       "         year  exchange_change      pred ISO2 Code\n",
       "0  1990-02-01              NaN  0.301421        AF\n",
       "1  1990-02-01              NaN  0.301421        AO\n",
       "2  1990-02-01              NaN  0.301421        AR\n",
       "3  1990-02-01              NaN  0.301421        AZ\n",
       "4  1990-02-01              NaN  0.301421        BD"
      ]
     },
     "execution_count": 14,
     "metadata": {},
     "output_type": "execute_result"
    }
   ],
   "source": [
    "crisis1.head()"
   ]
  },
  {
   "cell_type": "code",
   "execution_count": 17,
   "metadata": {},
   "outputs": [],
   "source": [
    "crisis2 = crisis1.dropna()"
   ]
  },
  {
   "cell_type": "code",
   "execution_count": 18,
   "metadata": {},
   "outputs": [
    {
     "data": {
      "text/html": [
       "<div>\n",
       "<style scoped>\n",
       "    .dataframe tbody tr th:only-of-type {\n",
       "        vertical-align: middle;\n",
       "    }\n",
       "\n",
       "    .dataframe tbody tr th {\n",
       "        vertical-align: top;\n",
       "    }\n",
       "\n",
       "    .dataframe thead th {\n",
       "        text-align: right;\n",
       "    }\n",
       "</style>\n",
       "<table border=\"1\" class=\"dataframe\">\n",
       "  <thead>\n",
       "    <tr style=\"text-align: right;\">\n",
       "      <th></th>\n",
       "      <th>year</th>\n",
       "      <th>exchange_change</th>\n",
       "      <th>pred</th>\n",
       "      <th>ISO2 Code</th>\n",
       "    </tr>\n",
       "  </thead>\n",
       "  <tbody>\n",
       "    <tr>\n",
       "      <td>300</td>\n",
       "      <td>1990-08-01</td>\n",
       "      <td>0.000000</td>\n",
       "      <td>0.155709</td>\n",
       "      <td>AF</td>\n",
       "    </tr>\n",
       "    <tr>\n",
       "      <td>301</td>\n",
       "      <td>1990-08-01</td>\n",
       "      <td>0.000000</td>\n",
       "      <td>0.976258</td>\n",
       "      <td>AO</td>\n",
       "    </tr>\n",
       "    <tr>\n",
       "      <td>302</td>\n",
       "      <td>1990-08-01</td>\n",
       "      <td>2.198391</td>\n",
       "      <td>0.381595</td>\n",
       "      <td>AR</td>\n",
       "    </tr>\n",
       "    <tr>\n",
       "      <td>303</td>\n",
       "      <td>1990-08-01</td>\n",
       "      <td>0.000000</td>\n",
       "      <td>0.348212</td>\n",
       "      <td>AZ</td>\n",
       "    </tr>\n",
       "    <tr>\n",
       "      <td>304</td>\n",
       "      <td>1990-08-01</td>\n",
       "      <td>0.000000</td>\n",
       "      <td>0.145175</td>\n",
       "      <td>BD</td>\n",
       "    </tr>\n",
       "    <tr>\n",
       "      <td>...</td>\n",
       "      <td>...</td>\n",
       "      <td>...</td>\n",
       "      <td>...</td>\n",
       "      <td>...</td>\n",
       "    </tr>\n",
       "    <tr>\n",
       "      <td>17845</td>\n",
       "      <td>2019-10-01</td>\n",
       "      <td>0.008627</td>\n",
       "      <td>0.050414</td>\n",
       "      <td>UG</td>\n",
       "    </tr>\n",
       "    <tr>\n",
       "      <td>17846</td>\n",
       "      <td>2019-10-01</td>\n",
       "      <td>0.044708</td>\n",
       "      <td>0.083771</td>\n",
       "      <td>UY</td>\n",
       "    </tr>\n",
       "    <tr>\n",
       "      <td>17847</td>\n",
       "      <td>2019-10-01</td>\n",
       "      <td>0.000000</td>\n",
       "      <td>0.031258</td>\n",
       "      <td>VE</td>\n",
       "    </tr>\n",
       "    <tr>\n",
       "      <td>17848</td>\n",
       "      <td>2019-10-01</td>\n",
       "      <td>0.002089</td>\n",
       "      <td>0.042309</td>\n",
       "      <td>VN</td>\n",
       "    </tr>\n",
       "    <tr>\n",
       "      <td>17849</td>\n",
       "      <td>2019-10-01</td>\n",
       "      <td>-0.013230</td>\n",
       "      <td>0.072266</td>\n",
       "      <td>ZA</td>\n",
       "    </tr>\n",
       "  </tbody>\n",
       "</table>\n",
       "<p>17550 rows × 4 columns</p>\n",
       "</div>"
      ],
      "text/plain": [
       "             year  exchange_change      pred ISO2 Code\n",
       "300    1990-08-01         0.000000  0.155709        AF\n",
       "301    1990-08-01         0.000000  0.976258        AO\n",
       "302    1990-08-01         2.198391  0.381595        AR\n",
       "303    1990-08-01         0.000000  0.348212        AZ\n",
       "304    1990-08-01         0.000000  0.145175        BD\n",
       "...           ...              ...       ...       ...\n",
       "17845  2019-10-01         0.008627  0.050414        UG\n",
       "17846  2019-10-01         0.044708  0.083771        UY\n",
       "17847  2019-10-01         0.000000  0.031258        VE\n",
       "17848  2019-10-01         0.002089  0.042309        VN\n",
       "17849  2019-10-01        -0.013230  0.072266        ZA\n",
       "\n",
       "[17550 rows x 4 columns]"
      ]
     },
     "execution_count": 18,
     "metadata": {},
     "output_type": "execute_result"
    }
   ],
   "source": [
    "crisis2"
   ]
  },
  {
   "cell_type": "code",
   "execution_count": 21,
   "metadata": {},
   "outputs": [
    {
     "name": "stderr",
     "output_type": "stream",
     "text": [
      "C:\\Users\\leomf\\Anaconda3\\lib\\site-packages\\ipykernel_launcher.py:2: UserWarning: Boolean Series key will be reindexed to match DataFrame index.\n",
      "  \n"
     ]
    },
    {
     "data": {
      "text/html": [
       "<div>\n",
       "<style scoped>\n",
       "    .dataframe tbody tr th:only-of-type {\n",
       "        vertical-align: middle;\n",
       "    }\n",
       "\n",
       "    .dataframe tbody tr th {\n",
       "        vertical-align: top;\n",
       "    }\n",
       "\n",
       "    .dataframe thead th {\n",
       "        text-align: right;\n",
       "    }\n",
       "</style>\n",
       "<table border=\"1\" class=\"dataframe\">\n",
       "  <thead>\n",
       "    <tr style=\"text-align: right;\">\n",
       "      <th></th>\n",
       "      <th>year</th>\n",
       "      <th>exchange_change</th>\n",
       "      <th>pred</th>\n",
       "      <th>ISO2 Code</th>\n",
       "    </tr>\n",
       "  </thead>\n",
       "  <tbody>\n",
       "    <tr>\n",
       "      <td>300</td>\n",
       "      <td>1990-08-01</td>\n",
       "      <td>0.000000</td>\n",
       "      <td>0.155709</td>\n",
       "      <td>AF</td>\n",
       "    </tr>\n",
       "    <tr>\n",
       "      <td>301</td>\n",
       "      <td>1990-08-01</td>\n",
       "      <td>0.000000</td>\n",
       "      <td>0.976258</td>\n",
       "      <td>AO</td>\n",
       "    </tr>\n",
       "    <tr>\n",
       "      <td>302</td>\n",
       "      <td>1990-08-01</td>\n",
       "      <td>2.198391</td>\n",
       "      <td>0.381595</td>\n",
       "      <td>AR</td>\n",
       "    </tr>\n",
       "    <tr>\n",
       "      <td>303</td>\n",
       "      <td>1990-08-01</td>\n",
       "      <td>0.000000</td>\n",
       "      <td>0.348212</td>\n",
       "      <td>AZ</td>\n",
       "    </tr>\n",
       "    <tr>\n",
       "      <td>304</td>\n",
       "      <td>1990-08-01</td>\n",
       "      <td>0.000000</td>\n",
       "      <td>0.145175</td>\n",
       "      <td>BD</td>\n",
       "    </tr>\n",
       "    <tr>\n",
       "      <td>...</td>\n",
       "      <td>...</td>\n",
       "      <td>...</td>\n",
       "      <td>...</td>\n",
       "      <td>...</td>\n",
       "    </tr>\n",
       "    <tr>\n",
       "      <td>17844</td>\n",
       "      <td>2019-10-01</td>\n",
       "      <td>-0.023100</td>\n",
       "      <td>0.286226</td>\n",
       "      <td>UA</td>\n",
       "    </tr>\n",
       "    <tr>\n",
       "      <td>17845</td>\n",
       "      <td>2019-10-01</td>\n",
       "      <td>0.008627</td>\n",
       "      <td>0.050414</td>\n",
       "      <td>UG</td>\n",
       "    </tr>\n",
       "    <tr>\n",
       "      <td>17846</td>\n",
       "      <td>2019-10-01</td>\n",
       "      <td>0.044708</td>\n",
       "      <td>0.083771</td>\n",
       "      <td>UY</td>\n",
       "    </tr>\n",
       "    <tr>\n",
       "      <td>17848</td>\n",
       "      <td>2019-10-01</td>\n",
       "      <td>0.002089</td>\n",
       "      <td>0.042309</td>\n",
       "      <td>VN</td>\n",
       "    </tr>\n",
       "    <tr>\n",
       "      <td>17849</td>\n",
       "      <td>2019-10-01</td>\n",
       "      <td>-0.013230</td>\n",
       "      <td>0.072266</td>\n",
       "      <td>ZA</td>\n",
       "    </tr>\n",
       "  </tbody>\n",
       "</table>\n",
       "<p>16848 rows × 4 columns</p>\n",
       "</div>"
      ],
      "text/plain": [
       "             year  exchange_change      pred ISO2 Code\n",
       "300    1990-08-01         0.000000  0.155709        AF\n",
       "301    1990-08-01         0.000000  0.976258        AO\n",
       "302    1990-08-01         2.198391  0.381595        AR\n",
       "303    1990-08-01         0.000000  0.348212        AZ\n",
       "304    1990-08-01         0.000000  0.145175        BD\n",
       "...           ...              ...       ...       ...\n",
       "17844  2019-10-01        -0.023100  0.286226        UA\n",
       "17845  2019-10-01         0.008627  0.050414        UG\n",
       "17846  2019-10-01         0.044708  0.083771        UY\n",
       "17848  2019-10-01         0.002089  0.042309        VN\n",
       "17849  2019-10-01        -0.013230  0.072266        ZA\n",
       "\n",
       "[16848 rows x 4 columns]"
      ]
     },
     "execution_count": 21,
     "metadata": {},
     "output_type": "execute_result"
    }
   ],
   "source": [
    "crisis3 = crisis2[crisis2[\"ISO2 Code\"]!=\"VE\"]\n",
    "crisis4 = crisis3[crisis2[\"ISO2 Code\"]!=\"MM\"]\n",
    "crisis4"
   ]
  },
  {
   "cell_type": "code",
   "execution_count": 22,
   "metadata": {},
   "outputs": [
    {
     "data": {
      "text/plain": [
       "<matplotlib.axes._subplots.AxesSubplot at 0x1c067715688>"
      ]
     },
     "execution_count": 22,
     "metadata": {},
     "output_type": "execute_result"
    },
    {
     "data": {
      "image/png": "[encoded data removed]",
      "text/plain": [
       "<Figure size 432x288 with 1 Axes>"
      ]
     },
     "metadata": {
      "needs_background": "light"
     },
     "output_type": "display_data"
    }
   ],
   "source": [
    "sns.distplot(crisis4['exchange_change'])"
   ]
  },
  {
   "cell_type": "code",
   "execution_count": 23,
   "metadata": {},
   "outputs": [
    {
     "data": {
      "text/plain": [
       "<matplotlib.axes._subplots.AxesSubplot at 0x1c067750188>"
      ]
     },
     "execution_count": 23,
     "metadata": {},
     "output_type": "execute_result"
    },
    {
     "data": {
      "image/png": "[encoded data removed]",
      "text/plain": [
       "<Figure size 432x288 with 1 Axes>"
      ]
     },
     "metadata": {
      "needs_background": "light"
     },
     "output_type": "display_data"
    }
   ],
   "source": [
    "sns.distplot(crisis4['exchange_change'], bins=20, kde=False, rug=True)"
   ]
  },
  {
   "cell_type": "code",
   "execution_count": 24,
   "metadata": {},
   "outputs": [
    {
     "data": {
      "text/html": [
       "<div>\n",
       "<style scoped>\n",
       "    .dataframe tbody tr th:only-of-type {\n",
       "        vertical-align: middle;\n",
       "    }\n",
       "\n",
       "    .dataframe tbody tr th {\n",
       "        vertical-align: top;\n",
       "    }\n",
       "\n",
       "    .dataframe thead th {\n",
       "        text-align: right;\n",
       "    }\n",
       "</style>\n",
       "<table border=\"1\" class=\"dataframe\">\n",
       "  <thead>\n",
       "    <tr style=\"text-align: right;\">\n",
       "      <th></th>\n",
       "      <th>year</th>\n",
       "      <th>exchange_change</th>\n",
       "      <th>pred</th>\n",
       "      <th>ISO2 Code</th>\n",
       "    </tr>\n",
       "  </thead>\n",
       "  <tbody>\n",
       "    <tr>\n",
       "      <td>300</td>\n",
       "      <td>1990-08-01</td>\n",
       "      <td>0.000000</td>\n",
       "      <td>0.155709</td>\n",
       "      <td>AF</td>\n",
       "    </tr>\n",
       "    <tr>\n",
       "      <td>301</td>\n",
       "      <td>1990-08-01</td>\n",
       "      <td>0.000000</td>\n",
       "      <td>0.976258</td>\n",
       "      <td>AO</td>\n",
       "    </tr>\n",
       "    <tr>\n",
       "      <td>302</td>\n",
       "      <td>1990-08-01</td>\n",
       "      <td>2.198391</td>\n",
       "      <td>0.381595</td>\n",
       "      <td>AR</td>\n",
       "    </tr>\n",
       "    <tr>\n",
       "      <td>303</td>\n",
       "      <td>1990-08-01</td>\n",
       "      <td>0.000000</td>\n",
       "      <td>0.348212</td>\n",
       "      <td>AZ</td>\n",
       "    </tr>\n",
       "    <tr>\n",
       "      <td>304</td>\n",
       "      <td>1990-08-01</td>\n",
       "      <td>0.000000</td>\n",
       "      <td>0.145175</td>\n",
       "      <td>BD</td>\n",
       "    </tr>\n",
       "  </tbody>\n",
       "</table>\n",
       "</div>"
      ],
      "text/plain": [
       "           year  exchange_change      pred ISO2 Code\n",
       "300  1990-08-01         0.000000  0.155709        AF\n",
       "301  1990-08-01         0.000000  0.976258        AO\n",
       "302  1990-08-01         2.198391  0.381595        AR\n",
       "303  1990-08-01         0.000000  0.348212        AZ\n",
       "304  1990-08-01         0.000000  0.145175        BD"
      ]
     },
     "execution_count": 24,
     "metadata": {},
     "output_type": "execute_result"
    }
   ],
   "source": [
    "crisis4.head()"
   ]
  },
  {
   "cell_type": "code",
   "execution_count": 29,
   "metadata": {},
   "outputs": [
    {
     "name": "stderr",
     "output_type": "stream",
     "text": [
      "C:\\Users\\leomf\\Anaconda3\\lib\\site-packages\\ipykernel_launcher.py:1: SettingWithCopyWarning: \n",
      "A value is trying to be set on a copy of a slice from a DataFrame.\n",
      "Try using .loc[row_indexer,col_indexer] = value instead\n",
      "\n",
      "See the caveats in the documentation: http://pandas.pydata.org/pandas-docs/stable/user_guide/indexing.html#returning-a-view-versus-a-copy\n",
      "  \"\"\"Entry point for launching an IPython kernel.\n"
     ]
    },
    {
     "data": {
      "text/html": [
       "<div>\n",
       "<style scoped>\n",
       "    .dataframe tbody tr th:only-of-type {\n",
       "        vertical-align: middle;\n",
       "    }\n",
       "\n",
       "    .dataframe tbody tr th {\n",
       "        vertical-align: top;\n",
       "    }\n",
       "\n",
       "    .dataframe thead th {\n",
       "        text-align: right;\n",
       "    }\n",
       "</style>\n",
       "<table border=\"1\" class=\"dataframe\">\n",
       "  <thead>\n",
       "    <tr style=\"text-align: right;\">\n",
       "      <th></th>\n",
       "      <th>year</th>\n",
       "      <th>exchange_change</th>\n",
       "      <th>pred</th>\n",
       "      <th>ISO2 Code</th>\n",
       "      <th>Indicator</th>\n",
       "    </tr>\n",
       "  </thead>\n",
       "  <tbody>\n",
       "    <tr>\n",
       "      <td>300</td>\n",
       "      <td>1990-08-01</td>\n",
       "      <td>0.000000</td>\n",
       "      <td>0.155709</td>\n",
       "      <td>AF</td>\n",
       "      <td>Tranquil</td>\n",
       "    </tr>\n",
       "    <tr>\n",
       "      <td>301</td>\n",
       "      <td>1990-08-01</td>\n",
       "      <td>0.000000</td>\n",
       "      <td>0.976258</td>\n",
       "      <td>AO</td>\n",
       "      <td>Crisis</td>\n",
       "    </tr>\n",
       "    <tr>\n",
       "      <td>302</td>\n",
       "      <td>1990-08-01</td>\n",
       "      <td>2.198391</td>\n",
       "      <td>0.381595</td>\n",
       "      <td>AR</td>\n",
       "      <td>Tranquil</td>\n",
       "    </tr>\n",
       "    <tr>\n",
       "      <td>303</td>\n",
       "      <td>1990-08-01</td>\n",
       "      <td>0.000000</td>\n",
       "      <td>0.348212</td>\n",
       "      <td>AZ</td>\n",
       "      <td>Tranquil</td>\n",
       "    </tr>\n",
       "    <tr>\n",
       "      <td>304</td>\n",
       "      <td>1990-08-01</td>\n",
       "      <td>0.000000</td>\n",
       "      <td>0.145175</td>\n",
       "      <td>BD</td>\n",
       "      <td>Tranquil</td>\n",
       "    </tr>\n",
       "  </tbody>\n",
       "</table>\n",
       "</div>"
      ],
      "text/plain": [
       "           year  exchange_change      pred ISO2 Code Indicator\n",
       "300  1990-08-01         0.000000  0.155709        AF  Tranquil\n",
       "301  1990-08-01         0.000000  0.976258        AO    Crisis\n",
       "302  1990-08-01         2.198391  0.381595        AR  Tranquil\n",
       "303  1990-08-01         0.000000  0.348212        AZ  Tranquil\n",
       "304  1990-08-01         0.000000  0.145175        BD  Tranquil"
      ]
     },
     "execution_count": 29,
     "metadata": {},
     "output_type": "execute_result"
    }
   ],
   "source": [
    "crisis4['Indicator'] = np.where(crisis4['pred']>=0.5, 'Crisis', 'Tranquil')\n",
    "crisis4.head()"
   ]
  },
  {
   "cell_type": "code",
   "execution_count": 87,
   "metadata": {},
   "outputs": [
    {
     "name": "stderr",
     "output_type": "stream",
     "text": [
      "C:\\Users\\leomf\\Anaconda3\\lib\\site-packages\\ipykernel_launcher.py:2: SettingWithCopyWarning: \n",
      "A value is trying to be set on a copy of a slice from a DataFrame.\n",
      "Try using .loc[row_indexer,col_indexer] = value instead\n",
      "\n",
      "See the caveats in the documentation: http://pandas.pydata.org/pandas-docs/stable/user_guide/indexing.html#returning-a-view-versus-a-copy\n",
      "  \n"
     ]
    }
   ],
   "source": [
    "crise = crisis[['year','exchange_change','pred','ISO2 Code']]\n",
    "crise['exchange_change_12m'] = crisis.groupby('ISO2 Code')['exchange_change_12m'].shift(12)\n"
   ]
  },
  {
   "cell_type": "code",
   "execution_count": 88,
   "metadata": {},
   "outputs": [
    {
     "data": {
      "text/html": [
       "<div>\n",
       "<style scoped>\n",
       "    .dataframe tbody tr th:only-of-type {\n",
       "        vertical-align: middle;\n",
       "    }\n",
       "\n",
       "    .dataframe tbody tr th {\n",
       "        vertical-align: top;\n",
       "    }\n",
       "\n",
       "    .dataframe thead th {\n",
       "        text-align: right;\n",
       "    }\n",
       "</style>\n",
       "<table border=\"1\" class=\"dataframe\">\n",
       "  <thead>\n",
       "    <tr style=\"text-align: right;\">\n",
       "      <th></th>\n",
       "      <th>year</th>\n",
       "      <th>exchange_change</th>\n",
       "      <th>pred</th>\n",
       "      <th>ISO2 Code</th>\n",
       "      <th>exchange_change_12m</th>\n",
       "    </tr>\n",
       "  </thead>\n",
       "  <tbody>\n",
       "    <tr>\n",
       "      <td>0</td>\n",
       "      <td>1990-02-01</td>\n",
       "      <td>NaN</td>\n",
       "      <td>0.301421</td>\n",
       "      <td>AF</td>\n",
       "      <td>NaN</td>\n",
       "    </tr>\n",
       "    <tr>\n",
       "      <td>1</td>\n",
       "      <td>1990-02-01</td>\n",
       "      <td>NaN</td>\n",
       "      <td>0.301421</td>\n",
       "      <td>AO</td>\n",
       "      <td>NaN</td>\n",
       "    </tr>\n",
       "    <tr>\n",
       "      <td>2</td>\n",
       "      <td>1990-02-01</td>\n",
       "      <td>NaN</td>\n",
       "      <td>0.301421</td>\n",
       "      <td>AR</td>\n",
       "      <td>NaN</td>\n",
       "    </tr>\n",
       "    <tr>\n",
       "      <td>3</td>\n",
       "      <td>1990-02-01</td>\n",
       "      <td>NaN</td>\n",
       "      <td>0.301421</td>\n",
       "      <td>AZ</td>\n",
       "      <td>NaN</td>\n",
       "    </tr>\n",
       "    <tr>\n",
       "      <td>4</td>\n",
       "      <td>1990-02-01</td>\n",
       "      <td>NaN</td>\n",
       "      <td>0.301421</td>\n",
       "      <td>BD</td>\n",
       "      <td>NaN</td>\n",
       "    </tr>\n",
       "  </tbody>\n",
       "</table>\n",
       "</div>"
      ],
      "text/plain": [
       "         year  exchange_change      pred ISO2 Code  exchange_change_12m\n",
       "0  1990-02-01              NaN  0.301421        AF                  NaN\n",
       "1  1990-02-01              NaN  0.301421        AO                  NaN\n",
       "2  1990-02-01              NaN  0.301421        AR                  NaN\n",
       "3  1990-02-01              NaN  0.301421        AZ                  NaN\n",
       "4  1990-02-01              NaN  0.301421        BD                  NaN"
      ]
     },
     "execution_count": 88,
     "metadata": {},
     "output_type": "execute_result"
    }
   ],
   "source": [
    "crise.head()"
   ]
  },
  {
   "cell_type": "code",
   "execution_count": null,
   "metadata": {},
   "outputs": [],
   "source": []
  },
  {
   "cell_type": "code",
   "execution_count": 106,
   "metadata": {},
   "outputs": [
    {
     "name": "stderr",
     "output_type": "stream",
     "text": [
      "C:\\Users\\leomf\\Anaconda3\\lib\\site-packages\\ipykernel_launcher.py:2: SettingWithCopyWarning: \n",
      "A value is trying to be set on a copy of a slice from a DataFrame.\n",
      "Try using .loc[row_indexer,col_indexer] = value instead\n",
      "\n",
      "See the caveats in the documentation: http://pandas.pydata.org/pandas-docs/stable/user_guide/indexing.html#returning-a-view-versus-a-copy\n",
      "  \n"
     ]
    }
   ],
   "source": [
    "crise1 = crise[crise[\"exchange_change_12m\"]<0.3]\n",
    "crise1['Indicator'] = np.where(crise1['pred']>=0.5, 'Crisis', 'Tranquil')\n",
    "crise1 = crise1.query('year > \"2010-12-31\"')"
   ]
  },
  {
   "cell_type": "code",
   "execution_count": 107,
   "metadata": {},
   "outputs": [
    {
     "data": {
      "text/plain": [
       "<matplotlib.lines.Line2D at 0x1c06d0f6f08>"
      ]
     },
     "execution_count": 107,
     "metadata": {},
     "output_type": "execute_result"
    },
    {
     "data": {
      "image/png": "[encoded data removed]",
      "text/plain": [
       "<Figure size 432x288 with 1 Axes>"
      ]
     },
     "metadata": {
      "needs_background": "light"
     },
     "output_type": "display_data"
    }
   ],
   "source": [
    "ax = sns.scatterplot(x=\"pred\", y=\"exchange_change_12m\", hue=\"Indicator\",\n",
    "...                      data=crise1)\n",
    "ax.axhline(0.1, ls='--')\n",
    "ax.axhline(0, ls='--')"
   ]
  },
  {
   "cell_type": "code",
   "execution_count": 94,
   "metadata": {},
   "outputs": [
    {
     "data": {
      "text/plain": [
       "<matplotlib.lines.Line2D at 0x1c0698fdc48>"
      ]
     },
     "execution_count": 94,
     "metadata": {},
     "output_type": "execute_result"
    },
    {
     "data": {
      "image/png": "[encoded data removed]",
      "text/plain": [
       "<Figure size 432x288 with 1 Axes>"
      ]
     },
     "metadata": {
      "needs_background": "light"
     },
     "output_type": "display_data"
    }
   ],
   "source": [
    "ax = sns.regplot(x=\"pred\", y=\"exchange_change_12m\",\n",
    "...                      data=crise1)\n",
    "ax.axhline(0.1, ls='--')\n"
   ]
  },
  {
   "cell_type": "code",
   "execution_count": 36,
   "metadata": {},
   "outputs": [
    {
     "data": {
      "text/html": [
       "<div>\n",
       "<style scoped>\n",
       "    .dataframe tbody tr th:only-of-type {\n",
       "        vertical-align: middle;\n",
       "    }\n",
       "\n",
       "    .dataframe tbody tr th {\n",
       "        vertical-align: top;\n",
       "    }\n",
       "\n",
       "    .dataframe thead th {\n",
       "        text-align: right;\n",
       "    }\n",
       "</style>\n",
       "<table border=\"1\" class=\"dataframe\">\n",
       "  <thead>\n",
       "    <tr style=\"text-align: right;\">\n",
       "      <th></th>\n",
       "      <th>year</th>\n",
       "      <th>exchange_change</th>\n",
       "      <th>pred</th>\n",
       "      <th>ISO2 Code</th>\n",
       "      <th>Indicator</th>\n",
       "    </tr>\n",
       "  </thead>\n",
       "  <tbody>\n",
       "    <tr>\n",
       "      <td>300</td>\n",
       "      <td>1990-08-01</td>\n",
       "      <td>0.000000</td>\n",
       "      <td>0.155709</td>\n",
       "      <td>AF</td>\n",
       "      <td>Tranquil</td>\n",
       "    </tr>\n",
       "    <tr>\n",
       "      <td>301</td>\n",
       "      <td>1990-08-01</td>\n",
       "      <td>0.000000</td>\n",
       "      <td>0.976258</td>\n",
       "      <td>AO</td>\n",
       "      <td>Crisis</td>\n",
       "    </tr>\n",
       "    <tr>\n",
       "      <td>302</td>\n",
       "      <td>1990-08-01</td>\n",
       "      <td>2.198391</td>\n",
       "      <td>0.381595</td>\n",
       "      <td>AR</td>\n",
       "      <td>Tranquil</td>\n",
       "    </tr>\n",
       "    <tr>\n",
       "      <td>303</td>\n",
       "      <td>1990-08-01</td>\n",
       "      <td>0.000000</td>\n",
       "      <td>0.348212</td>\n",
       "      <td>AZ</td>\n",
       "      <td>Tranquil</td>\n",
       "    </tr>\n",
       "    <tr>\n",
       "      <td>304</td>\n",
       "      <td>1990-08-01</td>\n",
       "      <td>0.000000</td>\n",
       "      <td>0.145175</td>\n",
       "      <td>BD</td>\n",
       "      <td>Tranquil</td>\n",
       "    </tr>\n",
       "  </tbody>\n",
       "</table>\n",
       "</div>"
      ],
      "text/plain": [
       "           year  exchange_change      pred ISO2 Code Indicator\n",
       "300  1990-08-01         0.000000  0.155709        AF  Tranquil\n",
       "301  1990-08-01         0.000000  0.976258        AO    Crisis\n",
       "302  1990-08-01         2.198391  0.381595        AR  Tranquil\n",
       "303  1990-08-01         0.000000  0.348212        AZ  Tranquil\n",
       "304  1990-08-01         0.000000  0.145175        BD  Tranquil"
      ]
     },
     "execution_count": 36,
     "metadata": {},
     "output_type": "execute_result"
    }
   ],
   "source": [
    "crisis4.head()"
   ]
  },
  {
   "cell_type": "code",
   "execution_count": 39,
   "metadata": {},
   "outputs": [
    {
     "name": "stderr",
     "output_type": "stream",
     "text": [
      "C:\\Users\\leomf\\Anaconda3\\lib\\site-packages\\ipykernel_launcher.py:1: SettingWithCopyWarning: \n",
      "A value is trying to be set on a copy of a slice from a DataFrame.\n",
      "Try using .loc[row_indexer,col_indexer] = value instead\n",
      "\n",
      "See the caveats in the documentation: http://pandas.pydata.org/pandas-docs/stable/user_guide/indexing.html#returning-a-view-versus-a-copy\n",
      "  \"\"\"Entry point for launching an IPython kernel.\n"
     ]
    },
    {
     "data": {
      "text/html": [
       "<div>\n",
       "<style scoped>\n",
       "    .dataframe tbody tr th:only-of-type {\n",
       "        vertical-align: middle;\n",
       "    }\n",
       "\n",
       "    .dataframe tbody tr th {\n",
       "        vertical-align: top;\n",
       "    }\n",
       "\n",
       "    .dataframe thead th {\n",
       "        text-align: right;\n",
       "    }\n",
       "</style>\n",
       "<table border=\"1\" class=\"dataframe\">\n",
       "  <thead>\n",
       "    <tr style=\"text-align: right;\">\n",
       "      <th></th>\n",
       "      <th>year</th>\n",
       "      <th>exchange_change</th>\n",
       "      <th>pred</th>\n",
       "      <th>ISO2 Code</th>\n",
       "      <th>Indicator</th>\n",
       "      <th>Severe Warning</th>\n",
       "      <th>Warning Dummy</th>\n",
       "    </tr>\n",
       "  </thead>\n",
       "  <tbody>\n",
       "    <tr>\n",
       "      <td>300</td>\n",
       "      <td>1990-08-01</td>\n",
       "      <td>0.000000</td>\n",
       "      <td>0.155709</td>\n",
       "      <td>AF</td>\n",
       "      <td>Tranquil</td>\n",
       "      <td>0</td>\n",
       "      <td>0</td>\n",
       "    </tr>\n",
       "    <tr>\n",
       "      <td>301</td>\n",
       "      <td>1990-08-01</td>\n",
       "      <td>0.000000</td>\n",
       "      <td>0.976258</td>\n",
       "      <td>AO</td>\n",
       "      <td>Crisis</td>\n",
       "      <td>1</td>\n",
       "      <td>1</td>\n",
       "    </tr>\n",
       "    <tr>\n",
       "      <td>302</td>\n",
       "      <td>1990-08-01</td>\n",
       "      <td>2.198391</td>\n",
       "      <td>0.381595</td>\n",
       "      <td>AR</td>\n",
       "      <td>Tranquil</td>\n",
       "      <td>0</td>\n",
       "      <td>0</td>\n",
       "    </tr>\n",
       "    <tr>\n",
       "      <td>303</td>\n",
       "      <td>1990-08-01</td>\n",
       "      <td>0.000000</td>\n",
       "      <td>0.348212</td>\n",
       "      <td>AZ</td>\n",
       "      <td>Tranquil</td>\n",
       "      <td>0</td>\n",
       "      <td>0</td>\n",
       "    </tr>\n",
       "    <tr>\n",
       "      <td>304</td>\n",
       "      <td>1990-08-01</td>\n",
       "      <td>0.000000</td>\n",
       "      <td>0.145175</td>\n",
       "      <td>BD</td>\n",
       "      <td>Tranquil</td>\n",
       "      <td>0</td>\n",
       "      <td>0</td>\n",
       "    </tr>\n",
       "  </tbody>\n",
       "</table>\n",
       "</div>"
      ],
      "text/plain": [
       "           year  exchange_change      pred ISO2 Code Indicator  \\\n",
       "300  1990-08-01         0.000000  0.155709        AF  Tranquil   \n",
       "301  1990-08-01         0.000000  0.976258        AO    Crisis   \n",
       "302  1990-08-01         2.198391  0.381595        AR  Tranquil   \n",
       "303  1990-08-01         0.000000  0.348212        AZ  Tranquil   \n",
       "304  1990-08-01         0.000000  0.145175        BD  Tranquil   \n",
       "\n",
       "     Severe Warning  Warning Dummy  \n",
       "300               0              0  \n",
       "301               1              1  \n",
       "302               0              0  \n",
       "303               0              0  \n",
       "304               0              0  "
      ]
     },
     "execution_count": 39,
     "metadata": {},
     "output_type": "execute_result"
    }
   ],
   "source": [
    "crisis4['Warning Dummy'] = np.where(crisis4['pred']>=0.5, 1, 0)\n",
    "crisis4.head()"
   ]
  },
  {
   "cell_type": "code",
   "execution_count": 40,
   "metadata": {},
   "outputs": [],
   "source": [
    "crisissample = crisis4[crisis4[\"Warning Dummy\"]!=0]"
   ]
  },
  {
   "cell_type": "code",
   "execution_count": 42,
   "metadata": {},
   "outputs": [
    {
     "data": {
      "text/plain": [
       "<matplotlib.axes._subplots.AxesSubplot at 0x1c069a4bc08>"
      ]
     },
     "execution_count": 42,
     "metadata": {},
     "output_type": "execute_result"
    },
    {
     "data": {
      "image/png": "[encoded data removed]",
      "text/plain": [
       "<Figure size 432x288 with 1 Axes>"
      ]
     },
     "metadata": {
      "needs_background": "light"
     },
     "output_type": "display_data"
    }
   ],
   "source": [
    "sns.distplot(crisissample['exchange_change'])"
   ]
  },
  {
   "cell_type": "code",
   "execution_count": 44,
   "metadata": {},
   "outputs": [
    {
     "data": {
      "text/html": [
       "<div>\n",
       "<style scoped>\n",
       "    .dataframe tbody tr th:only-of-type {\n",
       "        vertical-align: middle;\n",
       "    }\n",
       "\n",
       "    .dataframe tbody tr th {\n",
       "        vertical-align: top;\n",
       "    }\n",
       "\n",
       "    .dataframe thead th {\n",
       "        text-align: right;\n",
       "    }\n",
       "</style>\n",
       "<table border=\"1\" class=\"dataframe\">\n",
       "  <thead>\n",
       "    <tr style=\"text-align: right;\">\n",
       "      <th></th>\n",
       "      <th>year</th>\n",
       "      <th>exchange_change</th>\n",
       "      <th>pred</th>\n",
       "      <th>ISO2 Code</th>\n",
       "      <th>Indicator</th>\n",
       "      <th>Severe Warning</th>\n",
       "      <th>Warning Dummy</th>\n",
       "    </tr>\n",
       "  </thead>\n",
       "  <tbody>\n",
       "    <tr>\n",
       "      <td>300</td>\n",
       "      <td>1990-08-01</td>\n",
       "      <td>0.000000</td>\n",
       "      <td>0.155709</td>\n",
       "      <td>AF</td>\n",
       "      <td>Tranquil</td>\n",
       "      <td>0</td>\n",
       "      <td>0</td>\n",
       "    </tr>\n",
       "    <tr>\n",
       "      <td>302</td>\n",
       "      <td>1990-08-01</td>\n",
       "      <td>2.198391</td>\n",
       "      <td>0.381595</td>\n",
       "      <td>AR</td>\n",
       "      <td>Tranquil</td>\n",
       "      <td>0</td>\n",
       "      <td>0</td>\n",
       "    </tr>\n",
       "    <tr>\n",
       "      <td>303</td>\n",
       "      <td>1990-08-01</td>\n",
       "      <td>0.000000</td>\n",
       "      <td>0.348212</td>\n",
       "      <td>AZ</td>\n",
       "      <td>Tranquil</td>\n",
       "      <td>0</td>\n",
       "      <td>0</td>\n",
       "    </tr>\n",
       "    <tr>\n",
       "      <td>304</td>\n",
       "      <td>1990-08-01</td>\n",
       "      <td>0.000000</td>\n",
       "      <td>0.145175</td>\n",
       "      <td>BD</td>\n",
       "      <td>Tranquil</td>\n",
       "      <td>0</td>\n",
       "      <td>0</td>\n",
       "    </tr>\n",
       "    <tr>\n",
       "      <td>305</td>\n",
       "      <td>1990-08-01</td>\n",
       "      <td>0.000000</td>\n",
       "      <td>0.392016</td>\n",
       "      <td>BG</td>\n",
       "      <td>Tranquil</td>\n",
       "      <td>0</td>\n",
       "      <td>0</td>\n",
       "    </tr>\n",
       "    <tr>\n",
       "      <td>...</td>\n",
       "      <td>...</td>\n",
       "      <td>...</td>\n",
       "      <td>...</td>\n",
       "      <td>...</td>\n",
       "      <td>...</td>\n",
       "      <td>...</td>\n",
       "      <td>...</td>\n",
       "    </tr>\n",
       "    <tr>\n",
       "      <td>17844</td>\n",
       "      <td>2019-10-01</td>\n",
       "      <td>-0.023100</td>\n",
       "      <td>0.286226</td>\n",
       "      <td>UA</td>\n",
       "      <td>Tranquil</td>\n",
       "      <td>0</td>\n",
       "      <td>0</td>\n",
       "    </tr>\n",
       "    <tr>\n",
       "      <td>17845</td>\n",
       "      <td>2019-10-01</td>\n",
       "      <td>0.008627</td>\n",
       "      <td>0.050414</td>\n",
       "      <td>UG</td>\n",
       "      <td>Tranquil</td>\n",
       "      <td>0</td>\n",
       "      <td>0</td>\n",
       "    </tr>\n",
       "    <tr>\n",
       "      <td>17846</td>\n",
       "      <td>2019-10-01</td>\n",
       "      <td>0.044708</td>\n",
       "      <td>0.083771</td>\n",
       "      <td>UY</td>\n",
       "      <td>Tranquil</td>\n",
       "      <td>0</td>\n",
       "      <td>0</td>\n",
       "    </tr>\n",
       "    <tr>\n",
       "      <td>17848</td>\n",
       "      <td>2019-10-01</td>\n",
       "      <td>0.002089</td>\n",
       "      <td>0.042309</td>\n",
       "      <td>VN</td>\n",
       "      <td>Tranquil</td>\n",
       "      <td>0</td>\n",
       "      <td>0</td>\n",
       "    </tr>\n",
       "    <tr>\n",
       "      <td>17849</td>\n",
       "      <td>2019-10-01</td>\n",
       "      <td>-0.013230</td>\n",
       "      <td>0.072266</td>\n",
       "      <td>ZA</td>\n",
       "      <td>Tranquil</td>\n",
       "      <td>0</td>\n",
       "      <td>0</td>\n",
       "    </tr>\n",
       "  </tbody>\n",
       "</table>\n",
       "<p>15683 rows × 7 columns</p>\n",
       "</div>"
      ],
      "text/plain": [
       "             year  exchange_change      pred ISO2 Code Indicator  \\\n",
       "300    1990-08-01         0.000000  0.155709        AF  Tranquil   \n",
       "302    1990-08-01         2.198391  0.381595        AR  Tranquil   \n",
       "303    1990-08-01         0.000000  0.348212        AZ  Tranquil   \n",
       "304    1990-08-01         0.000000  0.145175        BD  Tranquil   \n",
       "305    1990-08-01         0.000000  0.392016        BG  Tranquil   \n",
       "...           ...              ...       ...       ...       ...   \n",
       "17844  2019-10-01        -0.023100  0.286226        UA  Tranquil   \n",
       "17845  2019-10-01         0.008627  0.050414        UG  Tranquil   \n",
       "17846  2019-10-01         0.044708  0.083771        UY  Tranquil   \n",
       "17848  2019-10-01         0.002089  0.042309        VN  Tranquil   \n",
       "17849  2019-10-01        -0.013230  0.072266        ZA  Tranquil   \n",
       "\n",
       "       Severe Warning  Warning Dummy  \n",
       "300                 0              0  \n",
       "302                 0              0  \n",
       "303                 0              0  \n",
       "304                 0              0  \n",
       "305                 0              0  \n",
       "...               ...            ...  \n",
       "17844               0              0  \n",
       "17845               0              0  \n",
       "17846               0              0  \n",
       "17848               0              0  \n",
       "17849               0              0  \n",
       "\n",
       "[15683 rows x 7 columns]"
      ]
     },
     "execution_count": 44,
     "metadata": {},
     "output_type": "execute_result"
    }
   ],
   "source": [
    "tranquilsample = crisis4[crisis4[\"Warning Dummy\"]!=1]\n",
    "tranquilsample"
   ]
  },
  {
   "cell_type": "code",
   "execution_count": 46,
   "metadata": {},
   "outputs": [
    {
     "data": {
      "text/plain": [
       "<matplotlib.axes._subplots.AxesSubplot at 0x1c068df1388>"
      ]
     },
     "execution_count": 46,
     "metadata": {},
     "output_type": "execute_result"
    },
    {
     "data": {
      "image/png": "[encoded data removed]",
      "text/plain": [
       "<Figure size 432x288 with 1 Axes>"
      ]
     },
     "metadata": {
      "needs_background": "light"
     },
     "output_type": "display_data"
    }
   ],
   "source": [
    "sns.distplot(tranquilsample['exchange_change'])"
   ]
  },
  {
   "cell_type": "code",
   "execution_count": 54,
   "metadata": {},
   "outputs": [
    {
     "data": {
      "text/plain": [
       "98.20729153862894"
      ]
     },
     "execution_count": 54,
     "metadata": {},
     "output_type": "execute_result"
    }
   ],
   "source": [
    "from scipy.stats import kurtosis\n",
    "from scipy.stats import skew\n",
    "\n",
    "meantranquil = np.mean(tranquilsample['exchange_change'])\n",
    "stdtranquil = np.var(tranquilsample['exchange_change'])\n",
    "skewnesstranquil = skew(tranquilsample['exchange_change'])\n",
    "kurtosistranquil = kurtosis(tranquilsample['exchange_change'])\n",
    "skewnesstranquil"
   ]
  },
  {
   "cell_type": "code",
   "execution_count": 55,
   "metadata": {},
   "outputs": [
    {
     "data": {
      "text/plain": [
       "11.87495762399481"
      ]
     },
     "execution_count": 55,
     "metadata": {},
     "output_type": "execute_result"
    }
   ],
   "source": [
    "meancrisis = np.mean(crisissample['exchange_change'])\n",
    "stdcrisis = np.var(crisissample['exchange_change'])\n",
    "skewnesscrisis = skew(crisissample['exchange_change'])\n",
    "kurtosiscrisis = kurtosis(crisissample['exchange_change'])\n",
    "skewnesscrisis"
   ]
  }
 ],
 "metadata": {
  "kernelspec": {
   "display_name": "Python 3",
   "language": "python",
   "name": "python3"
  },
  "language_info": {
   "codemirror_mode": {
    "name": "ipython",
    "version": 3
   },
   "file_extension": ".py",
   "mimetype": "text/x-python",
   "name": "python",
   "nbconvert_exporter": "python",
   "pygments_lexer": "ipython3",
   "version": "3.7.4"
  }
 },
 "nbformat": 4,
 "nbformat_minor": 2
}
