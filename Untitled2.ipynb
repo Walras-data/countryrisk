{
 "cells": [
  {
   "cell_type": "code",
   "execution_count": null,
   "metadata": {},
   "outputs": [],
   "source": [
    "import wbdata\n",
    "import pandas as pd\n",
    "import pandas_profiling\n",
    "import datetime\n",
    "import quandl\n",
    "%config IPCompleter.greedy=True\n",
    "import pandas_datareader\n",
    "import urllib3\n"
   ]
  }
 ],
 "metadata": {
  "kernelspec": {
   "display_name": "Python 3",
   "language": "python",
   "name": "python3"
  }
 },
 "nbformat": 4,
 "nbformat_minor": 2
}
