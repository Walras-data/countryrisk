{
 "cells": [
  {
   "cell_type": "code",
   "execution_count": 6,
   "metadata": {},
   "outputs": [],
   "source": [
    "import wbdata\n",
    "import pandas as pd\n",
    "import pandas_profiling\n",
    "import datetime\n",
    "import quandl\n",
    "%config IPCompleter.greedy=True\n",
    "import pandas_datareader\n",
    "import urllib3\n"
   ]
  },
  {
   "cell_type": "markdown",
   "metadata": {},
   "source": [
    "# 1- Extracting and Cleaning the Data from IMF, WB and BIS"
   ]
  },
  {
   "cell_type": "code",
   "execution_count": 11,
   "metadata": {},
   "outputs": [],
   "source": [
    "### fecthing country names from IMF database to get all ISO codes\n",
    "countrycodes = pd.read_csv('coucodes.csv', delimiter = ';', encoding = \"ISO-8859-1\")\n",
    "countrycodes = countrycodes[[\"IMF Name\", \"ISO Code\", \"ISO2 Code\"]]\n",
    "countrycodes.reset_index(level=0, inplace=True)\n",
    "countrycodes = countrycodes.rename(columns={'IMF Name': 'country'})\n",
    "\n",
    "countries = [\"Denmark\", \"Finland\", \"Sweden\", \"United Kingdom\", \"Brazil\",  \"Mexico\", \"India\",  \"Japan\",  \"Russia\", \"Switzerland\", \"Norway\", \"Uruguay\", \"Korea\", \"Thailand\", \"Ecuador\", \"Bolivia\", \"Costa Rica\", \"Colombia\", \"Paraguay\", \"Chile\", \"South Africa\", \"Taiwan\", \"Turkey\", \"Ukraine\", \"Nigeria\", \"Indonesia\", \"Bangladesh\", \"Philippines\"]\n",
    "\n",
    "countrycodes = countrycodes[countrycodes[\"country\"].isin(countries)]"
   ]
  },
  {
   "cell_type": "code",
   "execution_count": 8,
   "metadata": {},
   "outputs": [],
   "source": [
    "#downloading data from worldbank\n",
    "\n",
    "from pandas_datareader import wb\n",
    "\n",
    "worldbank_data = pandas_datareader.wb.download(indicator = [\"DPANUSLCU\", \"TOT\", \"TOTRESV\",\"UNEMPSA_\", \"IPTOTSAKD\", \"DXGSRMRCHSAKD\",\"DSTKMKTXD\", \"DMGSRMRCHSAKD\",\"CPTOTSAXN\"], country = countrycodes[\"ISO Code\"], start = 2010, end = 2020, freq = \"M\")\n",
    "worldbank_data2 = pandas_datareader.wb.download(indicator = [\"DPANUSLCU\", \"TOT\", \"TOTRESV\",\"UNEMPSA_\",  \"IPTOTSAKD\", \"DXGSRMRCHSAKD\",\"DSTKMKTXD\", \"DMGSRMRCHSAKD\",\"CPTOTSAXN\"], country = countrycodes[\"ISO Code\"], start = 1999, end = 2009, freq = \"M\")\n",
    "worldbank_data3 = pandas_datareader.wb.download(indicator = [\"DPANUSLCU\", \"TOT\", \"TOTRESV\",\"UNEMPSA_\",\"IPTOTSAKD\", \"DXGSRMRCHSAKD\",\"DSTKMKTXD\", \"DMGSRMRCHSAKD\",\"CPTOTSAXN\"], country = countrycodes[\"ISO Code\"], start = 1990, end = 1998, freq = \"M\")\n",
    "\n",
    "worldbank_data = pd.concat([worldbank_data, worldbank_data2])\n",
    "worldbank_data = pd.concat([worldbank_data, worldbank_data3])\n",
    "\n",
    "worldbank_data.reset_index(inplace=True)\n",
    "\n",
    "worldbank_data_conc = pd.merge(worldbank_data, countrycodes, on=\"country\")\n"
   ]
  },
  {
   "cell_type": "code",
   "execution_count": 12,
   "metadata": {},
   "outputs": [
    {
     "ename": "JSONDecodeError",
     "evalue": "Expecting value: line 1 column 1 (char 0)",
     "output_type": "error",
     "traceback": [
      "\u001b[1;31m---------------------------------------------------------------------------\u001b[0m",
      "\u001b[1;31mJSONDecodeError\u001b[0m                           Traceback (most recent call last)",
      "\u001b[1;32m<ipython-input-12-af7729441e2c>\u001b[0m in \u001b[0;36m<module>\u001b[1;34m\u001b[0m\n\u001b[0;32m     17\u001b[0m \u001b[1;33m\u001b[0m\u001b[0m\n\u001b[0;32m     18\u001b[0m \u001b[1;31m# Get data from the above URL using the requests package\u001b[0m\u001b[1;33m\u001b[0m\u001b[1;33m\u001b[0m\u001b[1;33m\u001b[0m\u001b[0m\n\u001b[1;32m---> 19\u001b[1;33m \u001b[0mdata\u001b[0m \u001b[1;33m=\u001b[0m \u001b[0mrequests\u001b[0m\u001b[1;33m.\u001b[0m\u001b[0mget\u001b[0m\u001b[1;33m(\u001b[0m\u001b[0murl\u001b[0m\u001b[1;33m)\u001b[0m\u001b[1;33m.\u001b[0m\u001b[0mjson\u001b[0m\u001b[1;33m(\u001b[0m\u001b[1;33m)\u001b[0m\u001b[1;33m\u001b[0m\u001b[1;33m\u001b[0m\u001b[0m\n\u001b[0m\u001b[0;32m     20\u001b[0m \u001b[1;33m\u001b[0m\u001b[0m\n\u001b[0;32m     21\u001b[0m \u001b[1;33m\u001b[0m\u001b[0m\n",
      "\u001b[1;32m~\\Anaconda3\\lib\\site-packages\\requests\\models.py\u001b[0m in \u001b[0;36mjson\u001b[1;34m(self, **kwargs)\u001b[0m\n\u001b[0;32m    895\u001b[0m                     \u001b[1;31m# used.\u001b[0m\u001b[1;33m\u001b[0m\u001b[1;33m\u001b[0m\u001b[1;33m\u001b[0m\u001b[0m\n\u001b[0;32m    896\u001b[0m                     \u001b[1;32mpass\u001b[0m\u001b[1;33m\u001b[0m\u001b[1;33m\u001b[0m\u001b[0m\n\u001b[1;32m--> 897\u001b[1;33m         \u001b[1;32mreturn\u001b[0m \u001b[0mcomplexjson\u001b[0m\u001b[1;33m.\u001b[0m\u001b[0mloads\u001b[0m\u001b[1;33m(\u001b[0m\u001b[0mself\u001b[0m\u001b[1;33m.\u001b[0m\u001b[0mtext\u001b[0m\u001b[1;33m,\u001b[0m \u001b[1;33m**\u001b[0m\u001b[0mkwargs\u001b[0m\u001b[1;33m)\u001b[0m\u001b[1;33m\u001b[0m\u001b[1;33m\u001b[0m\u001b[0m\n\u001b[0m\u001b[0;32m    898\u001b[0m \u001b[1;33m\u001b[0m\u001b[0m\n\u001b[0;32m    899\u001b[0m     \u001b[1;33m@\u001b[0m\u001b[0mproperty\u001b[0m\u001b[1;33m\u001b[0m\u001b[1;33m\u001b[0m\u001b[0m\n",
      "\u001b[1;32m~\\Anaconda3\\lib\\json\\__init__.py\u001b[0m in \u001b[0;36mloads\u001b[1;34m(s, encoding, cls, object_hook, parse_float, parse_int, parse_constant, object_pairs_hook, **kw)\u001b[0m\n\u001b[0;32m    346\u001b[0m             \u001b[0mparse_int\u001b[0m \u001b[1;32mis\u001b[0m \u001b[1;32mNone\u001b[0m \u001b[1;32mand\u001b[0m \u001b[0mparse_float\u001b[0m \u001b[1;32mis\u001b[0m \u001b[1;32mNone\u001b[0m \u001b[1;32mand\u001b[0m\u001b[1;33m\u001b[0m\u001b[1;33m\u001b[0m\u001b[0m\n\u001b[0;32m    347\u001b[0m             parse_constant is None and object_pairs_hook is None and not kw):\n\u001b[1;32m--> 348\u001b[1;33m         \u001b[1;32mreturn\u001b[0m \u001b[0m_default_decoder\u001b[0m\u001b[1;33m.\u001b[0m\u001b[0mdecode\u001b[0m\u001b[1;33m(\u001b[0m\u001b[0ms\u001b[0m\u001b[1;33m)\u001b[0m\u001b[1;33m\u001b[0m\u001b[1;33m\u001b[0m\u001b[0m\n\u001b[0m\u001b[0;32m    349\u001b[0m     \u001b[1;32mif\u001b[0m \u001b[0mcls\u001b[0m \u001b[1;32mis\u001b[0m \u001b[1;32mNone\u001b[0m\u001b[1;33m:\u001b[0m\u001b[1;33m\u001b[0m\u001b[1;33m\u001b[0m\u001b[0m\n\u001b[0;32m    350\u001b[0m         \u001b[0mcls\u001b[0m \u001b[1;33m=\u001b[0m \u001b[0mJSONDecoder\u001b[0m\u001b[1;33m\u001b[0m\u001b[1;33m\u001b[0m\u001b[0m\n",
      "\u001b[1;32m~\\Anaconda3\\lib\\json\\decoder.py\u001b[0m in \u001b[0;36mdecode\u001b[1;34m(self, s, _w)\u001b[0m\n\u001b[0;32m    335\u001b[0m \u001b[1;33m\u001b[0m\u001b[0m\n\u001b[0;32m    336\u001b[0m         \"\"\"\n\u001b[1;32m--> 337\u001b[1;33m         \u001b[0mobj\u001b[0m\u001b[1;33m,\u001b[0m \u001b[0mend\u001b[0m \u001b[1;33m=\u001b[0m \u001b[0mself\u001b[0m\u001b[1;33m.\u001b[0m\u001b[0mraw_decode\u001b[0m\u001b[1;33m(\u001b[0m\u001b[0ms\u001b[0m\u001b[1;33m,\u001b[0m \u001b[0midx\u001b[0m\u001b[1;33m=\u001b[0m\u001b[0m_w\u001b[0m\u001b[1;33m(\u001b[0m\u001b[0ms\u001b[0m\u001b[1;33m,\u001b[0m \u001b[1;36m0\u001b[0m\u001b[1;33m)\u001b[0m\u001b[1;33m.\u001b[0m\u001b[0mend\u001b[0m\u001b[1;33m(\u001b[0m\u001b[1;33m)\u001b[0m\u001b[1;33m)\u001b[0m\u001b[1;33m\u001b[0m\u001b[1;33m\u001b[0m\u001b[0m\n\u001b[0m\u001b[0;32m    338\u001b[0m         \u001b[0mend\u001b[0m \u001b[1;33m=\u001b[0m \u001b[0m_w\u001b[0m\u001b[1;33m(\u001b[0m\u001b[0ms\u001b[0m\u001b[1;33m,\u001b[0m \u001b[0mend\u001b[0m\u001b[1;33m)\u001b[0m\u001b[1;33m.\u001b[0m\u001b[0mend\u001b[0m\u001b[1;33m(\u001b[0m\u001b[1;33m)\u001b[0m\u001b[1;33m\u001b[0m\u001b[1;33m\u001b[0m\u001b[0m\n\u001b[0;32m    339\u001b[0m         \u001b[1;32mif\u001b[0m \u001b[0mend\u001b[0m \u001b[1;33m!=\u001b[0m \u001b[0mlen\u001b[0m\u001b[1;33m(\u001b[0m\u001b[0ms\u001b[0m\u001b[1;33m)\u001b[0m\u001b[1;33m:\u001b[0m\u001b[1;33m\u001b[0m\u001b[1;33m\u001b[0m\u001b[0m\n",
      "\u001b[1;32m~\\Anaconda3\\lib\\json\\decoder.py\u001b[0m in \u001b[0;36mraw_decode\u001b[1;34m(self, s, idx)\u001b[0m\n\u001b[0;32m    353\u001b[0m             \u001b[0mobj\u001b[0m\u001b[1;33m,\u001b[0m \u001b[0mend\u001b[0m \u001b[1;33m=\u001b[0m \u001b[0mself\u001b[0m\u001b[1;33m.\u001b[0m\u001b[0mscan_once\u001b[0m\u001b[1;33m(\u001b[0m\u001b[0ms\u001b[0m\u001b[1;33m,\u001b[0m \u001b[0midx\u001b[0m\u001b[1;33m)\u001b[0m\u001b[1;33m\u001b[0m\u001b[1;33m\u001b[0m\u001b[0m\n\u001b[0;32m    354\u001b[0m         \u001b[1;32mexcept\u001b[0m \u001b[0mStopIteration\u001b[0m \u001b[1;32mas\u001b[0m \u001b[0merr\u001b[0m\u001b[1;33m:\u001b[0m\u001b[1;33m\u001b[0m\u001b[1;33m\u001b[0m\u001b[0m\n\u001b[1;32m--> 355\u001b[1;33m             \u001b[1;32mraise\u001b[0m \u001b[0mJSONDecodeError\u001b[0m\u001b[1;33m(\u001b[0m\u001b[1;34m\"Expecting value\"\u001b[0m\u001b[1;33m,\u001b[0m \u001b[0ms\u001b[0m\u001b[1;33m,\u001b[0m \u001b[0merr\u001b[0m\u001b[1;33m.\u001b[0m\u001b[0mvalue\u001b[0m\u001b[1;33m)\u001b[0m \u001b[1;32mfrom\u001b[0m \u001b[1;32mNone\u001b[0m\u001b[1;33m\u001b[0m\u001b[1;33m\u001b[0m\u001b[0m\n\u001b[0m\u001b[0;32m    356\u001b[0m         \u001b[1;32mreturn\u001b[0m \u001b[0mobj\u001b[0m\u001b[1;33m,\u001b[0m \u001b[0mend\u001b[0m\u001b[1;33m\u001b[0m\u001b[1;33m\u001b[0m\u001b[0m\n",
      "\u001b[1;31mJSONDecodeError\u001b[0m: Expecting value: line 1 column 1 (char 0)"
     ]
    }
   ],
   "source": [
    "# Example: loading IMF data into pandas\n",
    "#Monthly data\n",
    "# Import libraries\n",
    "import requests\n",
    "import pandas as pd\n",
    "\n",
    "url = \"http://dataservices.imf.org/REST/SDMX_JSON.svc/CompactData/IFS/M.\"\n",
    "\n",
    "#Countries\n",
    "couvalues = list(countrycodes[\"ISO2 Code\"].values)\n",
    "iso2 = countrycodes[\"ISO2 Code\"].str.cat(sep='+')\n",
    "iso3 = countrycodes[\"ISO Code\"].str.cat(sep=',')\n",
    "#Variables\n",
    "variables = \".RAFAGOLDV_OZT+RAXG_USD+LUR_PT+TXG_FOB_XDC+TMG_CIF_XDC+FIMM_PA+PCPI_IX+ENSE_XDC_XDR_RATE.?startPeriod=1990&endPeriod=2030\"\n",
    "\n",
    "url = url+iso2+variables\n",
    "\n",
    "# Get data from the above URL using the requests package\n",
    "data = requests.get(url).json()\n",
    "\n",
    "\n",
    "#### stacking IMF data and creating a dataframe\n",
    "stack = []\n",
    "data2 = pd.DataFrame()\n",
    "for x in range(len(data['CompactData']['DataSet']['Series'])-1):\n",
    "    data2 = pd.DataFrame(data['CompactData']['DataSet']['Series'][x][\"Obs\"])[[\"@OBS_VALUE\", \"@TIME_PERIOD\"]]\n",
    "    data2[\"country\"] = data['CompactData']['DataSet']['Series'][x][\"@REF_AREA\"]\n",
    "    data2[\"indicator\"] = data['CompactData']['DataSet']['Series'][x][\"@INDICATOR\"]\n",
    "    stack.append(data2)\n",
    "stack = pd.concat(stack)\n",
    "\n",
    "\n",
    "stack = stack.set_index([\"@TIME_PERIOD\", 'country', 'indicator']).unstack(level=-1)\n",
    "stack.columns = stack.columns.droplevel(0)\n",
    "\n",
    "stack.reset_index(inplace=True)\n",
    "\n",
    "\n",
    "stack = stack.rename(columns={'@TIME_PERIOD': 'year', \"country\": \"ISO2 Code\"})\n",
    "#Next: Analyze the missing data and data range\n",
    "\n",
    "import missingno as msno\n",
    "stack_m = pd.merge(stack, countrycodes[[\"ISO2 Code\", \"ISO Code\"]], on = \"ISO2 Code\")\n",
    "msno.matrix(stack_m)"
   ]
  },
  {
   "cell_type": "code",
   "execution_count": null,
   "metadata": {},
   "outputs": [],
   "source": [
    "#Quarterly data\n",
    "\n",
    "\n",
    "import requests\n",
    "import pandas as pd\n",
    "\n",
    "url = \"http://dataservices.imf.org/REST/SDMX_JSON.svc/CompactData/IFS/Q.\"\n",
    "\n",
    "#Countries\n",
    "couvalues = list(countrycodes[\"ISO2 Code\"].values)\n",
    "iso2 = countrycodes[\"ISO2 Code\"].str.cat(sep='+')\n",
    "iso3 = countrycodes[\"ISO Code\"].str.cat(sep=',')\n",
    "\n",
    "#Variables\n",
    "variables = \".AIP_SA_IX+NGDP_R_K_IX+PCTOT+BCAXF_BP6_USD+FASMB_XDC.?startPeriod=1990&endPeriod=2020\"\n",
    "\n",
    "url = url+iso2+variables\n",
    "\n",
    "# Get data from the above URL using the requests package\n",
    "data = requests.get(url).json()\n",
    "\n",
    "\n",
    "#### stacking IMF data and creating a dataframe\n",
    "stack = []\n",
    "data2 = pd.DataFrame()\n",
    "for x in range(len(data['CompactData']['DataSet']['Series'])-1):\n",
    "    data2 = pd.DataFrame(data['CompactData']['DataSet']['Series'][x][\"Obs\"])[[\"@OBS_VALUE\", \"@TIME_PERIOD\"]]\n",
    "    data2[\"country\"] = data['CompactData']['DataSet']['Series'][x][\"@REF_AREA\"]\n",
    "    data2[\"indicator\"] = data['CompactData']['DataSet']['Series'][x][\"@INDICATOR\"]\n",
    "    stack.append(data2)\n",
    "stack = pd.concat(stack)\n",
    "\n",
    "\n",
    "stack = stack.set_index([\"@TIME_PERIOD\", 'country', 'indicator']).unstack(level=-1)\n",
    "stack.columns = stack.columns.droplevel(0)\n",
    "\n",
    "stack.reset_index(inplace=True)\n",
    "\n",
    "\n",
    "stack = stack.rename(columns={'@TIME_PERIOD': 'year', \"country\": \"ISO2 Code\"})\n",
    "#Next: Analyze the missing data and data range\n",
    "\n",
    "import missingno as msno\n",
    "msno.matrix(stack)\n",
    "stack_q = pd.merge(stack, countrycodes[[\"ISO2 Code\"]], on = \"ISO2 Code\")\n"
   ]
  },
  {
   "cell_type": "code",
   "execution_count": null,
   "metadata": {},
   "outputs": [],
   "source": [
    "data"
   ]
  },
  {
   "cell_type": "code",
   "execution_count": null,
   "metadata": {},
   "outputs": [],
   "source": [
    "stack_q[\"year\"] = pd.to_datetime(stack_q[\"year\"])\n",
    "stack_m[\"year\"] = pd.to_datetime(stack_m[\"year\"])\n",
    "\n",
    "stack = pd.merge(stack_m, stack_q, on = [\"year\", \"ISO2 Code\"], how = \"left\")"
   ]
  },
  {
   "cell_type": "code",
   "execution_count": null,
   "metadata": {},
   "outputs": [],
   "source": [
    "from cif import cif\n",
    "\n",
    "data_all, subjects_all, measures_all = cif.createDataFrameFromOECD(countries = countrycodes[\"ISO Code\"].tolist(), frequency = 'M', subject = [\"SPASTT01\"])\n"
   ]
  },
  {
   "cell_type": "code",
   "execution_count": null,
   "metadata": {},
   "outputs": [],
   "source": [
    "oecd = data_all.stack(level = 0)\n",
    "oecd.columns = oecd.columns.droplevel(0)\n",
    "oecd = oecd.reset_index()\n",
    "oecd = oecd.drop(['GP', 'GY'], axis=1)  \n",
    "oecd[\"level_0\"] = pd.to_datetime(oecd[\"level_0\"])\n"
   ]
  },
  {
   "cell_type": "code",
   "execution_count": null,
   "metadata": {},
   "outputs": [],
   "source": [
    "full = pd.merge(stack, oecd, left_on = [\"ISO Code\", \"year\"], right_on = [\"country\", \"level_0\"], how = \"left\")\n"
   ]
  },
  {
   "cell_type": "code",
   "execution_count": null,
   "metadata": {},
   "outputs": [],
   "source": [
    "from io import BytesIO\n",
    "import pandas as pd\n",
    "from urllib.request import urlopen\n",
    "from zipfile import ZipFile\n",
    "\n",
    "z = urlopen('https://www.bis.org/statistics/full_bis_total_credit_csv.zip')\n",
    "myzip = ZipFile(BytesIO(z.read())).extract('WEBSTATS_TOTAL_CREDIT_DATAFLOW_csv_col.csv')\n",
    "credit =pd.read_csv(myzip)\n",
    "\n",
    "\n",
    "credit = credit[(credit[\"Borrowing sector\"] == \"Private non-financial sector\") | (credit[\"Borrowing sector\"] == \"General government\")]\n",
    "credit = credit[(credit[\"Lending sector\"] == \"All sectors\")]\n",
    "credit = credit[(credit[\"BORROWERS_CTY\"].isin(countrycodes[\"ISO2 Code\"]))]\n",
    "credit = credit[(credit[\"Unit type\"] == \"Percentage of GDP\")]\n",
    "credit = credit[(credit[\"TC_ADJUST\"] == \"A\")]\n",
    "credit = credit[(credit[\"Valuation\"] == \"Market value\")]\n",
    "credit = (credit.set_index(['Borrowing sector', 'BORROWERS_CTY'])\n",
    "   .rename_axis(['Year'], axis=1)\n",
    "   .stack()\n",
    "   .unstack('Borrowing sector')\n",
    "   .reset_index())\n",
    "credit = credit.iloc[13:]"
   ]
  },
  {
   "cell_type": "code",
   "execution_count": null,
   "metadata": {},
   "outputs": [],
   "source": [
    "z = urlopen('https://www.bis.org/statistics/full_bis_dsr_csv.zip')\n",
    "myzip = ZipFile(BytesIO(z.read())).extract('WEBSTATS_DSR_DATAFLOW_csv_col.csv')\n",
    "debt_service =pd.read_csv(myzip)\n",
    "\n",
    "debt_service = debt_service[(debt_service[\"Borrowers\"] == \"Private non-financial sector\")]\n",
    "debt_service = debt_service[(debt_service[\"BORROWERS_CTY\"].isin(countrycodes[\"ISO2 Code\"]))]\n",
    "debt_service = (debt_service.set_index(['BORROWERS_CTY', \"Borrowers\"])\n",
    "   .rename_axis(['Year'], axis=1)\n",
    "   .stack()\n",
    "   .unstack(\"Borrowers\")\n",
    "   .reset_index())\n",
    "\n",
    "debt_service = debt_service.iloc[5:]\n",
    "debt_service.columns = debt_service.columns = [\"BORROWERS_CTY\", \"Year\", \"debt_service\"]"
   ]
  },
  {
   "cell_type": "code",
   "execution_count": null,
   "metadata": {},
   "outputs": [],
   "source": [
    "house_prices = pd.read_csv(\"https://stats.oecd.org/sdmx-json/data/DP_LIVE/.HOUSECOST.../OECD?contentType=csv&detail=code&separator=comma&csv-lang=en\")\n",
    "house_prices = house_prices[(house_prices[\"FREQUENCY\"] == \"Q\")]\n",
    "house_prices = house_prices[(house_prices[\"LOCATION\"].isin(countrycodes[\"ISO Code\"]))]\n",
    "house_prices = house_prices[(house_prices[\"SUBJECT\"] == \"PRICEINCOME\")]\n",
    "house_prices = house_prices.drop(columns=[\"INDICATOR\", \"SUBJECT\", \"MEASURE\", \"FREQUENCY\", \"Flag Codes\"])\n",
    "house_prices.columns = house_prices.columns = [\"LOCATION\", \"TIME\", \"House_prices\"]"
   ]
  },
  {
   "cell_type": "code",
   "execution_count": null,
   "metadata": {},
   "outputs": [],
   "source": [
    "credit[\"Year\"] = pd.to_datetime(credit[\"Year\"], errors = \"coerce\")\n",
    "debt_service[\"Year\"] = pd.to_datetime(debt_service[\"Year\"], errors = \"coerce\")\n",
    "house_prices[\"TIME\"] = pd.to_datetime(house_prices[\"TIME\"], errors = \"coerce\")\n",
    "\n",
    "\n",
    "full = pd.merge(full, credit, left_on = [\"ISO2 Code\", \"year\"], right_on = [\"BORROWERS_CTY\", \"Year\"], how = \"left\")\n",
    "full = pd.merge(full, debt_service, left_on = [\"ISO2 Code\", \"year\"], right_on = [\"BORROWERS_CTY\", \"Year\"], how = \"left\")\n",
    "full = pd.merge(full, house_prices, left_on = [\"country\", \"year\"], right_on = [\"LOCATION\", \"TIME\"], how = \"left\")"
   ]
  },
  {
   "cell_type": "markdown",
   "metadata": {},
   "source": [
    "# 2 - Creating variables and cleaning the Data"
   ]
  },
  {
   "cell_type": "code",
   "execution_count": null,
   "metadata": {},
   "outputs": [],
   "source": [
    "full = full.drop(columns = [\"country\", \"Year_x\", \"BORROWERS_CTY_x\", \"BORROWERS_CTY_y\", \"Year_y\", \"LOCATION\", \"TIME\",\"level_0\"])\n"
   ]
  },
  {
   "cell_type": "code",
   "execution_count": null,
   "metadata": {},
   "outputs": [],
   "source": [
    "cols = full.columns.drop([\"ISO2 Code\", \"year\"])\n",
    "\n",
    "full[cols] = full[cols].apply(pd.to_numeric, errors='coerce')"
   ]
  },
  {
   "cell_type": "code",
   "execution_count": null,
   "metadata": {},
   "outputs": [],
   "source": [
    "\n",
    "full[\"gdp_growth\"] = full.groupby('ISO2 Code', sort=False).NGDP_R_K_IX.apply(\n",
    "     lambda x: x.pct_change(12))\n",
    "\n",
    "full.rename(columns={'Private non-financial sector':'credit_private', 'General government': 'credit_government'}, inplace=True)\n",
    "\n",
    "full[\"credit_growth\"] = full.groupby('ISO2 Code', sort=False).credit_private.apply(\n",
    "     lambda x: x.pct_change(12))\n",
    "\n",
    "full[\"inflation\"] = full.groupby('ISO2 Code', sort=False).PCPI_IX.apply(\n",
    "     lambda x: x.pct_change(12))\n",
    "\n",
    "full[\"stock_growth\"]  = full.groupby('ISO2 Code', sort=False).IXOB.apply(\n",
    "     lambda x: x.pct_change(12))\n",
    "\n",
    "full[\"house_growth\"]  = full.groupby('ISO2 Code', sort=False).House_prices.apply(\n",
    "     lambda x: x.pct_change(12))\n",
    "\n",
    "full[\"exchange_change\"] = full.groupby('ISO2 Code', sort=False).ENSE_XDC_XDR_RATE.apply(\n",
    "     lambda x: x.pct_change(1))"
   ]
  },
  {
   "cell_type": "code",
   "execution_count": null,
   "metadata": {},
   "outputs": [],
   "source": [
    "full2 = full.groupby('ISO2 Code').apply(lambda group: group.interpolate(method='spline', order=2))\n",
    "\n"
   ]
  },
  {
   "cell_type": "code",
   "execution_count": null,
   "metadata": {},
   "outputs": [],
   "source": [
    "g = full2.groupby('ISO2 Code')\n",
    "g.count().rsub(g.size(), axis=0)"
   ]
  },
  {
   "cell_type": "code",
   "execution_count": null,
   "metadata": {},
   "outputs": [],
   "source": [
    "full3 = full2.drop([\"ISO Code\", \"FASMB_XDC\", \"credit_government\", \"House_prices\", \"house_growth\"], 1 )\n",
    "\n",
    "full3 = pd.get_dummies(full3, columns=['ISO2 Code'], prefix = ['Country'])\n"
   ]
  },
  {
   "cell_type": "code",
   "execution_count": null,
   "metadata": {},
   "outputs": [],
   "source": [
    "#Imputing missing data with KNN\n",
    "\n",
    "from fancyimpute import KNN\n",
    "\n",
    "full3 = full3.set_index('year')\n",
    "X_filled_knn = KNN(10).fit_transform(full3)\n"
   ]
  },
  {
   "cell_type": "code",
   "execution_count": null,
   "metadata": {},
   "outputs": [],
   "source": [
    "full_fill = pd.DataFrame(data=X_filled_knn, columns=full3.columns, index = full3.index)\n",
    "\n"
   ]
  },
  {
   "cell_type": "code",
   "execution_count": null,
   "metadata": {},
   "outputs": [],
   "source": [
    "pt = full_fill[full_fill[\"Country_BR\"] > 0]\n",
    "pt['NGDP_R_K_IX'].plot(linewidth=0.5)"
   ]
  },
  {
   "cell_type": "code",
   "execution_count": null,
   "metadata": {},
   "outputs": [],
   "source": [
    "aa = full2[full2[\"ISO2 Code\"] == \"BR\"]\n",
    "\n",
    "aa[\"gdp_growth\"]"
   ]
  },
  {
   "cell_type": "code",
   "execution_count": null,
   "metadata": {},
   "outputs": [],
   "source": [
    "import statsmodels.api as sm\n",
    "\n",
    "### Creating credit gap variable\n",
    "\n",
    "groups = full.groupby('ISO2 Code')\n",
    "\n",
    "group_keys = list(groups.groups.keys())\n",
    "\n",
    "\n",
    "bs = pd.DataFrame()\n",
    "\n",
    "for key in group_keys:\n",
    "\n",
    "    g = groups.get_group(key).copy()\n",
    "    target = g['exchange_change']\n",
    "\n",
    "    cycle, trend = sm.tsa.filters.hpfilter(target, lamb=129600)\n",
    "\n",
    "    g['credit_gap'] = trend\n",
    "    bs = bs.append(g)\n",
    "\n",
    "bs"
   ]
  },
  {
   "cell_type": "code",
   "execution_count": null,
   "metadata": {},
   "outputs": [],
   "source": [
    "import statsmodels.api as sm\n",
    "\n",
    "\n",
    "cycle, trend = sm.tsa.filters.hpfilter(full[\"exchange_change\"], lamb=400000)\n",
    "trend"
   ]
  },
  {
   "cell_type": "code",
   "execution_count": null,
   "metadata": {},
   "outputs": [],
   "source": [
    "### Creating house price gap variable\n",
    "groups = bs.groupby('ISO2 Code')\n",
    "\n",
    "group_keys = list(groups.groups.keys())\n",
    "\n",
    "\n",
    "bs2 = pd.DataFrame()\n",
    "\n",
    "for key in group_keys:\n",
    "\n",
    "    g = groups.get_group(key).copy()\n",
    "    target = g['House_prices']\n",
    "\n",
    "    cycle, trend = sm.tsa.filters.hpfilter(target, lamb=400000)\n",
    "\n",
    "    g['house_gap'] = trend\n",
    "    bs2 = bs2.append(g)\n",
    "\n",
    "bs2"
   ]
  },
  {
   "cell_type": "code",
   "execution_count": null,
   "metadata": {},
   "outputs": [],
   "source": [
    "import numpy as np\n",
    "\n",
    "bs2[\"dummy\"] = np.where(bs2['exchange_change'] <-0.05, 1, 0)\n",
    "crise = bs2\n",
    "\n",
    "crise[\"lag_1\"] =crise.groupby(\"ISO2 Code\")[\"dummy\"].shift(-1)\n",
    "crise[\"lag_2\"] =crise.groupby(\"ISO2 Code\")[\"dummy\"].shift(-2)\n",
    "crise[\"lag_3\"] =crise.groupby(\"ISO2 Code\")[\"dummy\"].shift(-3)\n",
    "crise[\"lag_4\"] =crise.groupby(\"ISO2 Code\")[\"dummy\"].shift(-4)\n",
    "crise[\"lag_5\"] =crise.groupby(\"ISO2 Code\")[\"dummy\"].shift(-5)\n",
    "crise[\"lag_6\"] =crise.groupby(\"ISO2 Code\")[\"dummy\"].shift(-6)\n",
    "\n",
    "\n"
   ]
  },
  {
   "cell_type": "code",
   "execution_count": null,
   "metadata": {},
   "outputs": [],
   "source": [
    "bs2['indicator'] = bs2[\"lag_1\"] + bs2[\"lag_2\"] + bs2[\"lag_3\"]\n",
    "bs2['indicator2'] = np.where(bs2['indicator'] > 0, 1, 0)\n"
   ]
  },
  {
   "cell_type": "code",
   "execution_count": null,
   "metadata": {},
   "outputs": [],
   "source": [
    "bs2[\"indicator2\"].describe()"
   ]
  },
  {
   "cell_type": "code",
   "execution_count": null,
   "metadata": {},
   "outputs": [],
   "source": [
    "msno.matrix(bs2)\n"
   ]
  },
  {
   "cell_type": "code",
   "execution_count": null,
   "metadata": {},
   "outputs": [],
   "source": [
    "### Merging IMF and WB database\n",
    "full_data = selected_worldbank_data.join(stack, how = \"left\")\n"
   ]
  },
  {
   "cell_type": "code",
   "execution_count": null,
   "metadata": {},
   "outputs": [],
   "source": []
  }
 ],
 "metadata": {
  "kernelspec": {
   "display_name": "Python 3",
   "language": "python",
   "name": "python3"
  },
  "language_info": {
   "codemirror_mode": {
    "name": "ipython",
    "version": 3
   },
   "file_extension": ".py",
   "mimetype": "text/x-python",
   "name": "python",
   "nbconvert_exporter": "python",
   "pygments_lexer": "ipython3",
   "version": "3.7.3"
  }
 },
 "nbformat": 4,
 "nbformat_minor": 2
}
